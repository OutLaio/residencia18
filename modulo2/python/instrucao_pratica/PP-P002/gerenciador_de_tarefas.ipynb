{
 "cells": [
  {
   "cell_type": "code",
   "execution_count": 133,
   "metadata": {},
   "outputs": [],
   "source": [
    "class Tarefa:\n",
    "    proximo_id = 1\n",
    "    def __init__(self, desc):\n",
    "        self.id = Tarefa.proximo_id\n",
    "        Tarefa.proximo_id += 1\n",
    "        self.desc = desc\n",
    "        self.status = False"
   ]
  },
  {
   "cell_type": "code",
   "execution_count": 140,
   "metadata": {},
   "outputs": [],
   "source": [
    "class Gerenciador:\n",
    "    def __init__(self):\n",
    "        self.tarefas = []\n",
    "\n",
    "    def addTarefa(self, descricao):\n",
    "        nova = Tarefa(descricao)\n",
    "        self.tarefas.append(nova)\n",
    "        print(\"Tarefa Registrada!\")\n",
    "    \n",
    "    def listarTarefa(self):\n",
    "        print(\"Lista de Tarefas:\")\n",
    "        for item in self.tarefas:\n",
    "            x = \"x\" if item.status else \" \"\n",
    "            print(f\"{item.id}. {item.desc} [{x}]\")\n",
    "    \n",
    "    def marcarTarefa(self,id):\n",
    "        tarefa = 0\n",
    "        for item in self.tarefas:\n",
    "            if item.id == id:\n",
    "                tarefa = item\n",
    "                break\n",
    "        if tarefa == 0:\n",
    "            print(\"Tarefa Não Encontrada!\")\n",
    "            return\n",
    "        self.tarefas.remove(tarefa)\n",
    "        tarefa.status = True\n",
    "        self.tarefas.insert(0, tarefa)\n",
    "        print(\"Tarefa Marcada como Realizada!\")\n",
    "        \n",
    "    def editarTarefa(self, id, desc):\n",
    "        tarefa = 0\n",
    "        for index, item in enumerate(self.tarefas):\n",
    "            if item.id == id:\n",
    "                tarefa = item\n",
    "                indice = index\n",
    "                break\n",
    "        if tarefa == 0:\n",
    "            print(\"Tarefa Não Encontrada!\")\n",
    "            return\n",
    "        self.tarefas.remove(tarefa)\n",
    "        tarefa.desc = desc\n",
    "        self.tarefas.insert(index, tarefa)\n",
    "        print(\"Tarefa Alterada com Sucesso!\")"
   ]
  },
  {
   "cell_type": "code",
   "execution_count": 141,
   "metadata": {},
   "outputs": [],
   "source": [
    "novo = Gerenciador()"
   ]
  },
  {
   "cell_type": "code",
   "execution_count": 142,
   "metadata": {},
   "outputs": [
    {
     "name": "stdout",
     "output_type": "stream",
     "text": [
      "Tarefa Registrada!\n",
      "Tarefa Registrada!\n",
      "Tarefa Registrada!\n"
     ]
    }
   ],
   "source": [
    "novo.addTarefa()\n",
    "novo.addTarefa()\n",
    "novo.addTarefa()"
   ]
  },
  {
   "cell_type": "code",
   "execution_count": 156,
   "metadata": {},
   "outputs": [
    {
     "name": "stdout",
     "output_type": "stream",
     "text": [
      "Lista de Tarefas:\n",
      "4. Beber água [x]\n",
      "6. Fazer xixi [x]\n",
      "5. Comer comida [x]\n"
     ]
    }
   ],
   "source": [
    "novo.listarTarefa()"
   ]
  },
  {
   "cell_type": "code",
   "execution_count": 155,
   "metadata": {},
   "outputs": [
    {
     "name": "stdout",
     "output_type": "stream",
     "text": [
      "Tarefa Marcada como Realizada!\n"
     ]
    }
   ],
   "source": [
    "novo.marcarTarefa()"
   ]
  },
  {
   "cell_type": "code",
   "execution_count": 157,
   "metadata": {},
   "outputs": [
    {
     "name": "stdout",
     "output_type": "stream",
     "text": [
      "Tarefa Não Encontrada!\n"
     ]
    }
   ],
   "source": [
    "novo.editarTarefa()"
   ]
  }
 ],
 "metadata": {
  "kernelspec": {
   "display_name": "base",
   "language": "python",
   "name": "python3"
  },
  "language_info": {
   "codemirror_mode": {
    "name": "ipython",
    "version": 3
   },
   "file_extension": ".py",
   "mimetype": "text/x-python",
   "name": "python",
   "nbconvert_exporter": "python",
   "pygments_lexer": "ipython3",
   "version": "3.9.13"
  }
 },
 "nbformat": 4,
 "nbformat_minor": 2
}
