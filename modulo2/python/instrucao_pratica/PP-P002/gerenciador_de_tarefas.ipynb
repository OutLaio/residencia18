{
 "cells": [
  {
   "cell_type": "markdown",
   "metadata": {},
   "source": [
    ">Primeiramente, foi criado uma classe Tarefa que inicializa cada tarefa com um Id único e atributos próprios."
   ]
  },
  {
   "cell_type": "code",
   "execution_count": 1,
   "metadata": {},
   "outputs": [],
   "source": [
    "class Tarefa:\n",
    "    proximo_id = 1\n",
    "    def __init__(self, desc):\n",
    "        self.id = Tarefa.proximo_id\n",
    "        Tarefa.proximo_id += 1\n",
    "        self.desc = desc\n",
    "        self.status = False"
   ]
  },
  {
   "cell_type": "markdown",
   "metadata": {},
   "source": [
    "> Posteriormente foi criado uma classe Gerenciador que irá realizar todas as manipulações na lista de tarefas, como adicionar uma nova tarefa na lista, exibir as tarefas da lista, marcar uma tarefa como realizada e editar uma tarefa na lista."
   ]
  },
  {
   "cell_type": "code",
   "execution_count": 3,
   "metadata": {},
   "outputs": [],
   "source": [
    "class Gerenciador:\n",
    "    def __init__(self):\n",
    "        self.tarefas = []\n",
    "\n",
    "    def addTarefa(self):\n",
    "        descricao = input(\"Qual tarefa deseja adicionar?\").capitalize()\n",
    "        nova = Tarefa(descricao)\n",
    "        self.tarefas.append(nova)\n",
    "        print(\"Tarefa Registrada!\")\n",
    "    \n",
    "    def listarTarefa(self):\n",
    "        print(\"Lista de Tarefas:\")\n",
    "        for item in self.tarefas:\n",
    "            x = \"x\" if item.status else \" \"\n",
    "            print(f\"{item.id}. {item.desc} [{x}]\")\n",
    "    \n",
    "    def marcarTarefa(self):\n",
    "        id = int(input(\"Qual o id da Tarefa?\"))\n",
    "        tarefa = 0\n",
    "        for item in self.tarefas:\n",
    "            if item.id == id:\n",
    "                tarefa = item\n",
    "                break\n",
    "        if tarefa == 0:\n",
    "            print(\"Tarefa Não Encontrada!\")\n",
    "            return\n",
    "        self.tarefas.remove(tarefa)\n",
    "        tarefa.status = True\n",
    "        self.tarefas.insert(0, tarefa)\n",
    "        print(\"Tarefa Marcada como Realizada!\")\n",
    "        \n",
    "    def editarTarefa(self):\n",
    "        id = int(input(\"Qual o id da Tarefa?\"))\n",
    "        tarefa = 0\n",
    "        for index, item in enumerate(self.tarefas):\n",
    "            if item.id == id:\n",
    "                tarefa = item\n",
    "                indice = index\n",
    "                break\n",
    "        if tarefa == 0:\n",
    "            print(\"Tarefa Não Encontrada!\")\n",
    "            return\n",
    "        self.tarefas.remove(tarefa)\n",
    "        tarefa.desc = input(\"Informe a nova descrição: \").capitalize()\n",
    "        self.tarefas.insert(index, tarefa)\n",
    "        print(\"Tarefa Alterada com Sucesso!\")"
   ]
  },
  {
   "cell_type": "markdown",
   "metadata": {},
   "source": [
    "> Por fim, chama-se o Gerenciador e executa as funções nele contidas para execução."
   ]
  },
  {
   "cell_type": "code",
   "execution_count": 4,
   "metadata": {},
   "outputs": [
    {
     "name": "stdout",
     "output_type": "stream",
     "text": [
      "Tarefa Registrada!\n",
      "Tarefa Registrada!\n",
      "Tarefa Registrada!\n",
      "Lista de Tarefas:\n",
      "1. Beber [ ]\n",
      "2. Comer [ ]\n",
      "3. Fazer [ ]\n",
      "Tarefa Marcada como Realizada!\n",
      "Lista de Tarefas:\n",
      "2. Comer [x]\n",
      "1. Beber [ ]\n",
      "3. Fazer [ ]\n",
      "Tarefa Alterada com Sucesso!\n",
      "Lista de Tarefas:\n",
      "2. Comer [x]\n",
      "1. Beber água [ ]\n",
      "3. Fazer [ ]\n"
     ]
    }
   ],
   "source": [
    "App = Gerenciador()\n",
    "App.addTarefa()\n",
    "App.addTarefa()\n",
    "App.addTarefa()\n",
    "App.listarTarefa()\n",
    "App.marcarTarefa()\n",
    "App.listarTarefa()\n",
    "App.editarTarefa()\n",
    "App.listarTarefa()"
   ]
  },
  {
   "cell_type": "code",
   "execution_count": 6,
   "metadata": {},
   "outputs": [],
   "source": [
    "novo = Gerenciador()"
   ]
  },
  {
   "cell_type": "code",
   "execution_count": 7,
   "metadata": {},
   "outputs": [
    {
     "name": "stdout",
     "output_type": "stream",
     "text": [
      "Tarefa Registrada!\n",
      "Tarefa Registrada!\n",
      "Tarefa Registrada!\n"
     ]
    }
   ],
   "source": [
    "novo.addTarefa()\n",
    "novo.addTarefa()\n",
    "novo.addTarefa()"
   ]
  },
  {
   "cell_type": "code",
   "execution_count": 12,
   "metadata": {},
   "outputs": [
    {
     "name": "stdout",
     "output_type": "stream",
     "text": [
      "Lista de Tarefas:\n",
      "5. Comer [x]\n",
      "4. Beber água [ ]\n",
      "6. Fazer [ ]\n"
     ]
    }
   ],
   "source": [
    "novo.listarTarefa()"
   ]
  },
  {
   "cell_type": "code",
   "execution_count": 9,
   "metadata": {},
   "outputs": [
    {
     "name": "stdout",
     "output_type": "stream",
     "text": [
      "Tarefa Marcada como Realizada!\n"
     ]
    }
   ],
   "source": [
    "novo.marcarTarefa()"
   ]
  },
  {
   "cell_type": "code",
   "execution_count": 11,
   "metadata": {},
   "outputs": [
    {
     "name": "stdout",
     "output_type": "stream",
     "text": [
      "Tarefa Alterada com Sucesso!\n"
     ]
    }
   ],
   "source": [
    "novo.editarTarefa()"
   ]
  }
 ],
 "metadata": {
  "kernelspec": {
   "display_name": "base",
   "language": "python",
   "name": "python3"
  },
  "language_info": {
   "codemirror_mode": {
    "name": "ipython",
    "version": 3
   },
   "file_extension": ".py",
   "mimetype": "text/x-python",
   "name": "python",
   "nbconvert_exporter": "python",
   "pygments_lexer": "ipython3",
   "version": "3.11.5"
  }
 },
 "nbformat": 4,
 "nbformat_minor": 2
}
