{
 "cells": [
  {
   "cell_type": "code",
   "execution_count": 70,
   "metadata": {},
   "outputs": [],
   "source": [
    "import numpy as np\n",
    "\n",
    "def quickSort(arr):\n",
    "    if len(arr) <= 1:\n",
    "        return arr\n",
    "    \n",
    "    mediana = np.median([arr[0], arr[len(arr)//2], arr[-1]])\n",
    "    indice = np.where(arr == mediana)[0][0]\n",
    "    \n",
    "    arr[indice], arr[-1] = arr[-1], arr[indice]\n",
    "    \n",
    "    i = 0\n",
    "    for j in range (len(arr)-1):\n",
    "        if arr[j] <= arr[-1]:\n",
    "            arr[i], arr[j] = arr[j], arr[i]\n",
    "            i += 1\n",
    "    \n",
    "    arr[i], arr[-1] = arr[-1], arr[i]\n",
    "    \n",
    "    esqArray = quickSort(arr[:i])\n",
    "    dirArray = quickSort(arr[i+1:])\n",
    "    \n",
    "    return np.concatenate((esqArray, [arr[i]], dirArray))\n",
    "    "
   ]
  },
  {
   "cell_type": "code",
   "execution_count": 72,
   "metadata": {},
   "outputs": [
    {
     "name": "stdout",
     "output_type": "stream",
     "text": [
      "[ 1.  2.  3.  4. 13. 14. 15. 23. 43.]\n"
     ]
    }
   ],
   "source": [
    "lista = [3, 1, 15, 23, 4, 43, 2, 14, 13]\n",
    "listaOrd = quickSort(lista)\n",
    "\n",
    "print(listaOrd)"
   ]
  },
  {
   "cell_type": "code",
   "execution_count": 80,
   "metadata": {},
   "outputs": [
    {
     "name": "stdout",
     "output_type": "stream",
     "text": [
      "     Gender  Gender_Codes\n",
      "0      Male             1\n",
      "1      Male             1\n",
      "2      Male             1\n",
      "3      Male             1\n",
      "4      Male             1\n",
      "..      ...           ...\n",
      "369  Female             0\n",
      "370  Female             0\n",
      "371  Female             0\n",
      "372  Female             0\n",
      "373  Female             0\n",
      "\n",
      "[374 rows x 2 columns]\n"
     ]
    }
   ],
   "source": [
    "import pandas as pd\n",
    "\n",
    "df = pd.read_csv(\"/home/laio-rodrigues/Downloads/Datasets-20231117/Sleep_health_and_lifestyle_dataset.csv\")\n",
    "\n",
    "df['Gender_Codes'] = pd.Categorical(df['Gender']).codes\n",
    "\n",
    "print(df[['Gender', 'Gender_Codes']])"
   ]
  },
  {
   "cell_type": "code",
   "execution_count": 81,
   "metadata": {},
   "outputs": [
    {
     "name": "stdout",
     "output_type": "stream",
     "text": [
      "     Gender  Gender_Codes\n",
      "0      Male            10\n",
      "1      Male            10\n",
      "2      Male            10\n",
      "3      Male            10\n",
      "4      Male            10\n",
      "..      ...           ...\n",
      "369  Female            11\n",
      "370  Female            11\n",
      "371  Female            11\n",
      "372  Female            11\n",
      "373  Female            11\n",
      "\n",
      "[374 rows x 2 columns]\n"
     ]
    }
   ],
   "source": [
    "mapping = {'Male': 10, 'Female': 11}\n",
    "\n",
    "df['Gender_Codes'] = df['Gender'].map(mapping)\n",
    "\n",
    "print(df[['Gender', 'Gender_Codes']])"
   ]
  },
  {
   "cell_type": "code",
   "execution_count": 113,
   "metadata": {},
   "outputs": [
    {
     "name": "stdout",
     "output_type": "stream",
     "text": [
      "9\n"
     ]
    }
   ],
   "source": [
    "matriz = [[1,2,3], [4,5,6], [7,8,9]]\n",
    "\n",
    "diagonal = 1\n",
    "res = 0\n",
    "j=0\n",
    "for k in range(3):\n",
    "    for i in range(3):\n",
    "        if(j == 3):\n",
    "            j = 0\n",
    "        diagonal *= matriz[i][j]\n",
    "j += 1\n",
    "\n"
   ]
  }
 ],
 "metadata": {
  "kernelspec": {
   "display_name": "Python 3",
   "language": "python",
   "name": "python3"
  },
  "language_info": {
   "codemirror_mode": {
    "name": "ipython",
    "version": 3
   },
   "file_extension": ".py",
   "mimetype": "text/x-python",
   "name": "python",
   "nbconvert_exporter": "python",
   "pygments_lexer": "ipython3",
   "version": "3.11.5"
  },
  "orig_nbformat": 4
 },
 "nbformat": 4,
 "nbformat_minor": 2
}
