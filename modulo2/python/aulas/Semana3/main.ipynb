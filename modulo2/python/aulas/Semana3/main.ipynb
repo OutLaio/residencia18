{
 "cells": [
  {
   "cell_type": "code",
   "execution_count": 16,
   "metadata": {},
   "outputs": [],
   "source": [
    "class Tarefa:\n",
    "    id = 0\n",
    "    def __init__(self, desc):\n",
    "        self.id += 1\n",
    "        self.desc = desc\n",
    "        self.status = False\n",
    "        "
   ]
  },
  {
   "cell_type": "code",
   "execution_count": 14,
   "metadata": {},
   "outputs": [],
   "source": [
    "class Gerenciador:\n",
    "    def __init__(self):\n",
    "        self.tarefas = []\n",
    "\n",
    "    def addTarefa(self):\n",
    "        descricao = input(\"Qual tarefa deseja adicionar?\")\n",
    "        nova = Tarefa(descricao)\n",
    "        self.tarefas.append(nova)\n",
    "    \n",
    "    def listarTarefa(self):\n",
    "        for tarefa in self.tarefas:\n",
    "            \n",
    "\n"
   ]
  },
  {
   "cell_type": "code",
   "execution_count": 18,
   "metadata": {},
   "outputs": [
    {
     "name": "stdout",
     "output_type": "stream",
     "text": [
      "Arrumar o quarto [ ]\n"
     ]
    }
   ],
   "source": [
    "novo = Gerenciador()\n",
    "\n",
    "novo.addTarefa()"
   ]
  }
 ],
 "metadata": {
  "kernelspec": {
   "display_name": "base",
   "language": "python",
   "name": "python3"
  },
  "language_info": {
   "codemirror_mode": {
    "name": "ipython",
    "version": 3
   },
   "file_extension": ".py",
   "mimetype": "text/x-python",
   "name": "python",
   "nbconvert_exporter": "python",
   "pygments_lexer": "ipython3",
   "version": "3.11.5"
  },
  "orig_nbformat": 4
 },
 "nbformat": 4,
 "nbformat_minor": 2
}
